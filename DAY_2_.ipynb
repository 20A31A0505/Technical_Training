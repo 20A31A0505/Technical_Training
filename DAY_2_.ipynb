{
  "nbformat": 4,
  "nbformat_minor": 0,
  "metadata": {
    "colab": {
      "provenance": [],
      "authorship_tag": "ABX9TyM++kkCwDAmF3fpJvWd/TPu",
      "include_colab_link": true
    },
    "kernelspec": {
      "name": "python3",
      "display_name": "Python 3"
    },
    "language_info": {
      "name": "python"
    }
  },
  "cells": [
    {
      "cell_type": "markdown",
      "metadata": {
        "id": "view-in-github",
        "colab_type": "text"
      },
      "source": [
        "<a href=\"https://colab.research.google.com/github/20A31A0505/Technical_Training/blob/main/DAY_2_.ipynb\" target=\"_parent\"><img src=\"https://colab.research.google.com/assets/colab-badge.svg\" alt=\"Open In Colab\"/></a>"
      ]
    },
    {
      "cell_type": "markdown",
      "source": [
        "LOOPING STATEMENTS\n"
      ],
      "metadata": {
        "id": "GJSwpf4dIYcQ"
      }
    },
    {
      "cell_type": "code",
      "source": [
        "#WHILE\n",
        "num=int(input(\"enter number : \"))\n",
        "#initialisation\n",
        "i=0\n",
        "while(i<=num) :\n",
        "    print(i,end=\" \")\n",
        "    i=i+1"
      ],
      "metadata": {
        "colab": {
          "base_uri": "https://localhost:8080/"
        },
        "id": "M4y8wkipIgm3",
        "outputId": "79bf009a-1567-4896-b95c-d8d42b2f6e1d"
      },
      "execution_count": null,
      "outputs": [
        {
          "output_type": "stream",
          "name": "stdout",
          "text": [
            "enter number : 8\n",
            "0 1 2 3 4 5 6 7 8 "
          ]
        }
      ]
    },
    {
      "cell_type": "code",
      "source": [
        "#WRITE A PROGRAM TO CALCULATE SUM OF N NUMBERS\n",
        "n=int(input())\n",
        "sum=0\n",
        "i=0\n",
        "while(i<=n):\n",
        "  sum=sum+i\n",
        "  i=i+1\n",
        "print(sum)"
      ],
      "metadata": {
        "colab": {
          "base_uri": "https://localhost:8080/"
        },
        "id": "Nh_4Zi_1JpJ2",
        "outputId": "2ec4636b-1d6e-428b-e694-5d9d0508423d"
      },
      "execution_count": null,
      "outputs": [
        {
          "output_type": "stream",
          "name": "stdout",
          "text": [
            "7\n",
            "28\n"
          ]
        }
      ]
    },
    {
      "cell_type": "markdown",
      "source": [
        "WRITE A PROGRAM TO ADD ALL THE DIGITS IN A NUMBER"
      ],
      "metadata": {
        "id": "QN8Syx1HNKYn"
      }
    },
    {
      "cell_type": "code",
      "source": [
        "n=int(input(\"Enter number :\"))\n",
        "sum=0\n",
        "while(n>0):\n",
        "  r=n%10\n",
        "  sum=sum+r\n",
        "  n=n//10\n",
        "print(sum)"
      ],
      "metadata": {
        "colab": {
          "base_uri": "https://localhost:8080/"
        },
        "id": "k0udGJBGNVWW",
        "outputId": "58f2dabd-763c-4008-bdb6-50cbea152a9b"
      },
      "execution_count": null,
      "outputs": [
        {
          "output_type": "stream",
          "name": "stdout",
          "text": [
            "Enter number :76\n",
            "13\n"
          ]
        }
      ]
    },
    {
      "cell_type": "markdown",
      "source": [
        "WRITE A PROGRAM TO PRINT ALL EVEN NUMBERS UNTIL 10"
      ],
      "metadata": {
        "id": "RXj44e3GRGxM"
      }
    },
    {
      "cell_type": "code",
      "source": [
        "n=int(input(\"enter a number :\"))\n",
        "i=0\n",
        "while(i<=n):\n",
        "  if i%2==0:\n",
        "    print(i, end=\"\\t\")\n",
        "  i=i+1"
      ],
      "metadata": {
        "colab": {
          "base_uri": "https://localhost:8080/"
        },
        "id": "5l5kM74JRO2x",
        "outputId": "b278112a-d44f-40d0-a210-5dcab3b9d251"
      },
      "execution_count": null,
      "outputs": [
        {
          "output_type": "stream",
          "name": "stdout",
          "text": [
            "enter a number :10\n",
            "0\t2\t4\t6\t8\t10\t"
          ]
        }
      ]
    },
    {
      "cell_type": "markdown",
      "source": [
        "WRITE A PROGRAM TO PRINT THE SUM OF EVEN NUMBERS UNTIL 10"
      ],
      "metadata": {
        "id": "EkZZL5IbSgub"
      }
    },
    {
      "cell_type": "code",
      "source": [
        "n=int(input(\"enter a number :\"))\n",
        "i=0\n",
        "sum=0\n",
        "while(i<=n):\n",
        "  if i%2==0:\n",
        "    sum=sum+i\n",
        "  i=i+1\n",
        "print(sum)"
      ],
      "metadata": {
        "colab": {
          "base_uri": "https://localhost:8080/"
        },
        "id": "Z5iKB52gSoXz",
        "outputId": "9d775271-c7b9-4165-8e26-7f181cefb3fc"
      },
      "execution_count": null,
      "outputs": [
        {
          "output_type": "stream",
          "name": "stdout",
          "text": [
            "enter a number :10\n",
            "30\n"
          ]
        }
      ]
    },
    {
      "cell_type": "markdown",
      "source": [
        "WRITE A PROGRAM TO CALCULATE SUM OF EVEN NUMBERS AND ODD NUMBERS IN A GIVEN RANGE SEPERATELY"
      ],
      "metadata": {
        "id": "d1PSrO4BUgZs"
      }
    },
    {
      "cell_type": "code",
      "source": [
        "n=int(input(\"enter a number :\"))\n",
        "i=0\n",
        "es=0\n",
        "os=0\n",
        "while(i<=n):\n",
        "  if i%2==0 :\n",
        "    es=es+i\n",
        "  else :\n",
        "    os=os+i\n",
        "  i=i+1\n",
        "print(es)\n",
        "print(os)"
      ],
      "metadata": {
        "colab": {
          "base_uri": "https://localhost:8080/"
        },
        "id": "4uilJ_GdU3NG",
        "outputId": "acc31980-7513-442f-f449-ec466a958e77"
      },
      "execution_count": null,
      "outputs": [
        {
          "output_type": "stream",
          "name": "stdout",
          "text": [
            "enter a number :10\n",
            "30\n",
            "25\n"
          ]
        }
      ]
    },
    {
      "cell_type": "markdown",
      "source": [
        "WRITE A PROGRAM TO REVERSE DIGITS OF A GIVEN NUMBER"
      ],
      "metadata": {
        "id": "hC6Gm8JZaNhq"
      }
    },
    {
      "cell_type": "code",
      "source": [
        "n=int(input(\"enter a number :\"\n",
        "))\n",
        "rev=0\n",
        "while(n>0):\n",
        "  rev=n%10\n",
        "  print(rev,end=\" \")\n",
        "  n=n//10"
      ],
      "metadata": {
        "colab": {
          "base_uri": "https://localhost:8080/"
        },
        "id": "lj5pTRgebKmS",
        "outputId": "6984b0e5-ee7e-4c8b-ca01-5403ed51bf99"
      },
      "execution_count": null,
      "outputs": [
        {
          "output_type": "stream",
          "name": "stdout",
          "text": [
            "enter a number :794\n",
            "4 9 7 "
          ]
        }
      ]
    },
    {
      "cell_type": "markdown",
      "source": [
        "WRITE A PROGRAM TO CONVERT DECIMAL NUMBER TO BINARY "
      ],
      "metadata": {
        "id": "FwsWUwuHdTAS"
      }
    },
    {
      "cell_type": "code",
      "source": [
        "d=int(input(\"enter a number :\"))\n",
        "b=0\n",
        "i=0\n",
        "while(d>0):\n",
        "  r=d%2\n",
        "  b=b+r*(10**i)\n",
        "  d=d//2\n",
        "  i=i+1\n",
        "print(b)"
      ],
      "metadata": {
        "colab": {
          "base_uri": "https://localhost:8080/"
        },
        "id": "ZlzUrcR2dYdX",
        "outputId": "f5e2b431-b4a7-47a8-ef4a-7a13e6234b8b"
      },
      "execution_count": null,
      "outputs": [
        {
          "output_type": "stream",
          "name": "stdout",
          "text": [
            "enter a number :4\n",
            "100\n"
          ]
        }
      ]
    },
    {
      "cell_type": "markdown",
      "source": [
        "WRITE A PROGRAM TO CONVERT BINARY TO DECIMAL NUMBER"
      ],
      "metadata": {
        "id": "GmmjUWttfwHL"
      }
    },
    {
      "cell_type": "code",
      "source": [
        "print(\"Enter the Binary Number: \")\n",
        "bnum = int(input())\n",
        "\n",
        "dnum = 0\n",
        "i = 1\n",
        "while bnum!=0:\n",
        "    rem = bnum%10\n",
        "    dnum = dnum + (rem*i)\n",
        "    i = i*2\n",
        "    bnum = int(bnum/10)\n",
        "\n",
        "print(\"\\nEquivalent Decimal Value = \", dnum)\n"
      ],
      "metadata": {
        "colab": {
          "base_uri": "https://localhost:8080/"
        },
        "id": "vbwHHS_Bf445",
        "outputId": "7be01e7b-8def-49ce-eab3-d5081251e1c4"
      },
      "execution_count": null,
      "outputs": [
        {
          "output_type": "stream",
          "name": "stdout",
          "text": [
            "Enter the Binary Number: \n",
            "100\n",
            "\n",
            "Equivalent Decimal Value =  4\n"
          ]
        }
      ]
    },
    {
      "cell_type": "code",
      "source": [
        "for i in range(11):\n",
        "  print(i,end=\" \")"
      ],
      "metadata": {
        "colab": {
          "base_uri": "https://localhost:8080/"
        },
        "id": "JeKF6lFSvCa8",
        "outputId": "b70f8c13-3dee-44e0-f074-d2f19119fa1b"
      },
      "execution_count": null,
      "outputs": [
        {
          "output_type": "stream",
          "name": "stdout",
          "text": [
            "0 1 2 3 4 5 6 7 8 9 10 "
          ]
        }
      ]
    },
    {
      "cell_type": "markdown",
      "source": [
        "WRITE A PROGRAM TO CALCULATE THE TOTAL OF N NATURAL NUMBERS AND FIND ITS AVERAGE , N=10"
      ],
      "metadata": {
        "id": "3geqmZJtvKZK"
      }
    },
    {
      "cell_type": "code",
      "source": [
        "n=int(input())\n",
        "sum=0\n",
        "i=0\n",
        "for i in range(1,n+1):\n",
        "  sum=sum+i\n",
        "  i=i+1\n",
        "  average=sum/n\n",
        "print(average)"
      ],
      "metadata": {
        "colab": {
          "base_uri": "https://localhost:8080/"
        },
        "id": "4KzUPN92vLWx",
        "outputId": "79d32f42-d4f7-4414-c885-47be535e0bc2"
      },
      "execution_count": null,
      "outputs": [
        {
          "output_type": "stream",
          "name": "stdout",
          "text": [
            "10\n",
            "5.5\n"
          ]
        }
      ]
    },
    {
      "cell_type": "markdown",
      "source": [
        "PROGRAM FOR MATH TABLES"
      ],
      "metadata": {
        "id": "kkcgeR8CvU-p"
      }
    },
    {
      "cell_type": "code",
      "source": [
        "n=int(input(\"enter from 1-10 : \"))\n",
        "print(\"multiplication table of \",n)\n",
        "print(\"---------------------\")\n",
        "for i in range(1,11):\n",
        "  print(n, \"X\" ,i, \"=\" , n*i )"
      ],
      "metadata": {
        "colab": {
          "base_uri": "https://localhost:8080/"
        },
        "id": "_DPuoD7cvPYA",
        "outputId": "f7774c63-eaf6-40ab-f0bc-df83d9b63538"
      },
      "execution_count": null,
      "outputs": [
        {
          "output_type": "stream",
          "name": "stdout",
          "text": [
            "enter from 1-10 : 4\n",
            "multiplication table of  4\n",
            "---------------------\n",
            "4 X 1 = 4\n",
            "4 X 2 = 8\n",
            "4 X 3 = 12\n",
            "4 X 4 = 16\n",
            "4 X 5 = 20\n",
            "4 X 6 = 24\n",
            "4 X 7 = 28\n",
            "4 X 8 = 32\n",
            "4 X 9 = 36\n",
            "4 X 10 = 40\n"
          ]
        }
      ]
    },
    {
      "cell_type": "markdown",
      "source": [
        "WRITE A PROGRAM TO CALCULATE THE FACTORIAL OF THE GIVEN NUMBER"
      ],
      "metadata": {
        "id": "fZdElXixve9B"
      }
    },
    {
      "cell_type": "code",
      "source": [
        "n=int(input())\n",
        "fact=1\n",
        "for i in range(1,n+1):\n",
        "  fact=fact*i\n",
        "print(fact)"
      ],
      "metadata": {
        "colab": {
          "base_uri": "https://localhost:8080/"
        },
        "id": "yY2LbShUvfkf",
        "outputId": "780d5ca2-681c-41f7-bb69-327dec298f77"
      },
      "execution_count": null,
      "outputs": [
        {
          "output_type": "stream",
          "name": "stdout",
          "text": [
            "4\n",
            "24\n"
          ]
        }
      ]
    },
    {
      "cell_type": "markdown",
      "source": [
        "WRITE A PROGRAM TO PRINT THE SERIES :1+1/2+1/3+1/4+..................+1/n"
      ],
      "metadata": {
        "id": "TxvNpuTavo1x"
      }
    },
    {
      "cell_type": "code",
      "source": [
        "n=int(input())\n",
        "s=0.0\n",
        "for i in range(1,n+1):\n",
        "  a=1.0/i\n",
        "  s=s+a\n",
        "print(s)"
      ],
      "metadata": {
        "colab": {
          "base_uri": "https://localhost:8080/"
        },
        "id": "dhAmCU2qvpYg",
        "outputId": "819ba4fd-36e7-4b47-8cdd-515a4c67199a"
      },
      "execution_count": null,
      "outputs": [
        {
          "output_type": "stream",
          "name": "stdout",
          "text": [
            "6\n",
            "2.4499999999999997\n"
          ]
        }
      ]
    },
    {
      "cell_type": "markdown",
      "source": [
        "WRITE A PROGRAM TO PRINT THE SERIES :1/2+2/3+3/4+..............+n/n+1"
      ],
      "metadata": {
        "id": "tWx02a9Evy4r"
      }
    },
    {
      "cell_type": "code",
      "source": [
        "n=int(input())\n",
        "s=0.0\n",
        "for i in range(1,n+1):\n",
        "  a=i/i+1\n",
        "  s=s+a\n",
        "print(s)"
      ],
      "metadata": {
        "colab": {
          "base_uri": "https://localhost:8080/"
        },
        "id": "bv8jsg1-vzbS",
        "outputId": "dc35b309-16be-45c8-ab25-194847dfdacb"
      },
      "execution_count": null,
      "outputs": [
        {
          "output_type": "stream",
          "name": "stdout",
          "text": [
            "2\n",
            "4.0\n"
          ]
        }
      ]
    },
    {
      "cell_type": "markdown",
      "source": [
        "WRITE A PROGRAM TO FIND THE ABSOLUTE DIFFERENCE BETWEEN THE EVEN INDEX AND ODD INDEX OF A GIVEN NUMBER"
      ],
      "metadata": {
        "id": "BDuNNedkv6Qq"
      }
    },
    {
      "cell_type": "code",
      "source": [
        "n=int(input(\"Enter a number :\"))\n",
        "even=0\n",
        "odd=0\n",
        "while(n>0):\n",
        "  r=n%10\n",
        "  if r%2==0:\n",
        "    even=even+r\n",
        "    n=n//10\n",
        "  else :\n",
        "    odd=odd+r\n",
        "    n=n//10\n",
        "print(even)\n",
        "print(odd)\n",
        "abs=(even-odd)\n",
        "print(abs)"
      ],
      "metadata": {
        "colab": {
          "base_uri": "https://localhost:8080/"
        },
        "id": "UWxExoZTv7F3",
        "outputId": "2eaf131f-fa53-4441-ff20-80d513563dd9"
      },
      "execution_count": null,
      "outputs": [
        {
          "output_type": "stream",
          "name": "stdout",
          "text": [
            "Enter a number :1234\n",
            "6\n",
            "4\n",
            "2\n"
          ]
        }
      ]
    },
    {
      "cell_type": "markdown",
      "source": [
        "GIVEN A MAXIMUM OF FOUR DIGIT TO THE BASE 17(10-A, 11-B, 12-C, 13-D, ............16-G) AS INPUT, OUTPUT ITS DECIMAL VALUE"
      ],
      "metadata": {
        "id": "HVgcw6yJwFmF"
      }
    },
    {
      "cell_type": "code",
      "source": [
        "n=str(input())\n",
        "print(int(n,17))"
      ],
      "metadata": {
        "colab": {
          "base_uri": "https://localhost:8080/"
        },
        "id": "EpjUej4WwGLk",
        "outputId": "b58ffe14-5521-452d-eb35-0647a3a6c1b2"
      },
      "execution_count": null,
      "outputs": [
        {
          "output_type": "stream",
          "name": "stdout",
          "text": [
            "1\n",
            "1\n"
          ]
        }
      ]
    },
    {
      "cell_type": "code",
      "source": [
        "#BREAK\n",
        "abc=[1,2,3,4,5,6,7]\n",
        "for i in abc :\n",
        "  if i==4 :\n",
        "    break\n",
        "  print(i)"
      ],
      "metadata": {
        "colab": {
          "base_uri": "https://localhost:8080/"
        },
        "id": "VGiF4D7owJw_",
        "outputId": "b4fadc44-7e48-4d70-a0a6-e3afe60e8218"
      },
      "execution_count": null,
      "outputs": [
        {
          "output_type": "stream",
          "name": "stdout",
          "text": [
            "1\n",
            "2\n",
            "3\n"
          ]
        }
      ]
    },
    {
      "cell_type": "code",
      "source": [
        "abc=[1,2,3,4,5,6,7]\n",
        "for i in abc :\n",
        "  if i==4 :\n",
        "    continue\n",
        "  print(i)"
      ],
      "metadata": {
        "colab": {
          "base_uri": "https://localhost:8080/"
        },
        "id": "R-uxDvwnwQeR",
        "outputId": "34ee1862-7463-4e02-c226-144f36c797b3"
      },
      "execution_count": null,
      "outputs": [
        {
          "output_type": "stream",
          "name": "stdout",
          "text": [
            "1\n",
            "2\n",
            "3\n",
            "5\n",
            "6\n",
            "7\n"
          ]
        }
      ]
    },
    {
      "cell_type": "code",
      "source": [
        "#pass\n",
        "for letter in 'divya' :\n",
        "  pass\n",
        "  print(\"pass :\",letter)"
      ],
      "metadata": {
        "colab": {
          "base_uri": "https://localhost:8080/"
        },
        "id": "VXOWmgwJwWeC",
        "outputId": "12b60273-7859-4735-cde2-7c4330600049"
      },
      "execution_count": null,
      "outputs": [
        {
          "output_type": "stream",
          "name": "stdout",
          "text": [
            "pass : d\n",
            "pass : i\n",
            "pass : v\n",
            "pass : y\n",
            "pass : a\n"
          ]
        }
      ]
    },
    {
      "cell_type": "markdown",
      "source": [
        "FIND THE nTH TERM OF THE SERIES ⁉1,1,2,3,4,9,8,27,16,81,32,243,64,729,128,2187,......................... THIS SERIES IS A MIXTURE OF 2 SERIES - ALL THE ODD TERMS IN THIS SERIES FORM A GEOMETRIC SERIES .WRITE A PROGRAM TO FIND THE N TH TERM IN THE SERIES."
      ],
      "metadata": {
        "id": "Tlj05inlwd5n"
      }
    },
    {
      "cell_type": "code",
      "source": [
        "#CALENDER PROBLEM\n",
        "import calendar\n",
        "y=int(int(input(\"enter the year :\")))\n",
        "m=1\n",
        "cal=calendar.TextCalendar(calendar.SUNDAY)\n",
        "i=1\n",
        "while i<=12 :\n",
        "  cal.prmonth(y,i)\n",
        "  i=i+1"
      ],
      "metadata": {
        "colab": {
          "base_uri": "https://localhost:8080/"
        },
        "id": "O4KmbWwxweqD",
        "outputId": "baa06cd8-0fa7-4690-fad5-6cf4c84d72f6"
      },
      "execution_count": null,
      "outputs": [
        {
          "output_type": "stream",
          "name": "stdout",
          "text": [
            "enter the year :2003\n",
            "    January 2003\n",
            "Su Mo Tu We Th Fr Sa\n",
            "          1  2  3  4\n",
            " 5  6  7  8  9 10 11\n",
            "12 13 14 15 16 17 18\n",
            "19 20 21 22 23 24 25\n",
            "26 27 28 29 30 31\n",
            "   February 2003\n",
            "Su Mo Tu We Th Fr Sa\n",
            "                   1\n",
            " 2  3  4  5  6  7  8\n",
            " 9 10 11 12 13 14 15\n",
            "16 17 18 19 20 21 22\n",
            "23 24 25 26 27 28\n",
            "     March 2003\n",
            "Su Mo Tu We Th Fr Sa\n",
            "                   1\n",
            " 2  3  4  5  6  7  8\n",
            " 9 10 11 12 13 14 15\n",
            "16 17 18 19 20 21 22\n",
            "23 24 25 26 27 28 29\n",
            "30 31\n",
            "     April 2003\n",
            "Su Mo Tu We Th Fr Sa\n",
            "       1  2  3  4  5\n",
            " 6  7  8  9 10 11 12\n",
            "13 14 15 16 17 18 19\n",
            "20 21 22 23 24 25 26\n",
            "27 28 29 30\n",
            "      May 2003\n",
            "Su Mo Tu We Th Fr Sa\n",
            "             1  2  3\n",
            " 4  5  6  7  8  9 10\n",
            "11 12 13 14 15 16 17\n",
            "18 19 20 21 22 23 24\n",
            "25 26 27 28 29 30 31\n",
            "     June 2003\n",
            "Su Mo Tu We Th Fr Sa\n",
            " 1  2  3  4  5  6  7\n",
            " 8  9 10 11 12 13 14\n",
            "15 16 17 18 19 20 21\n",
            "22 23 24 25 26 27 28\n",
            "29 30\n",
            "     July 2003\n",
            "Su Mo Tu We Th Fr Sa\n",
            "       1  2  3  4  5\n",
            " 6  7  8  9 10 11 12\n",
            "13 14 15 16 17 18 19\n",
            "20 21 22 23 24 25 26\n",
            "27 28 29 30 31\n",
            "    August 2003\n",
            "Su Mo Tu We Th Fr Sa\n",
            "                1  2\n",
            " 3  4  5  6  7  8  9\n",
            "10 11 12 13 14 15 16\n",
            "17 18 19 20 21 22 23\n",
            "24 25 26 27 28 29 30\n",
            "31\n",
            "   September 2003\n",
            "Su Mo Tu We Th Fr Sa\n",
            "    1  2  3  4  5  6\n",
            " 7  8  9 10 11 12 13\n",
            "14 15 16 17 18 19 20\n",
            "21 22 23 24 25 26 27\n",
            "28 29 30\n",
            "    October 2003\n",
            "Su Mo Tu We Th Fr Sa\n",
            "          1  2  3  4\n",
            " 5  6  7  8  9 10 11\n",
            "12 13 14 15 16 17 18\n",
            "19 20 21 22 23 24 25\n",
            "26 27 28 29 30 31\n",
            "   November 2003\n",
            "Su Mo Tu We Th Fr Sa\n",
            "                   1\n",
            " 2  3  4  5  6  7  8\n",
            " 9 10 11 12 13 14 15\n",
            "16 17 18 19 20 21 22\n",
            "23 24 25 26 27 28 29\n",
            "30\n",
            "   December 2003\n",
            "Su Mo Tu We Th Fr Sa\n",
            "    1  2  3  4  5  6\n",
            " 7  8  9 10 11 12 13\n",
            "14 15 16 17 18 19 20\n",
            "21 22 23 24 25 26 27\n",
            "28 29 30 31\n"
          ]
        }
      ]
    }
  ]
}