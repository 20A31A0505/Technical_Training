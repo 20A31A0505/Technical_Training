{
  "nbformat": 4,
  "nbformat_minor": 0,
  "metadata": {
    "colab": {
      "provenance": [],
      "authorship_tag": "ABX9TyMf+w7pnwliDjOjH8fHdlta",
      "include_colab_link": true
    },
    "kernelspec": {
      "name": "python3",
      "display_name": "Python 3"
    },
    "language_info": {
      "name": "python"
    }
  },
  "cells": [
    {
      "cell_type": "markdown",
      "metadata": {
        "id": "view-in-github",
        "colab_type": "text"
      },
      "source": [
        "<a href=\"https://colab.research.google.com/github/20A31A0505/Technical_Training/blob/main/DAY_4.ipynb\" target=\"_parent\"><img src=\"https://colab.research.google.com/assets/colab-badge.svg\" alt=\"Open In Colab\"/></a>"
      ]
    },
    {
      "cell_type": "markdown",
      "source": [
        "#abcederian series"
      ],
      "metadata": {
        "id": "w7ksYDs1V8Oy"
      }
    },
    {
      "cell_type": "code",
      "source": [
        "str1='ABCDEFGH' \n",
        "str2='ate'\n",
        "for i in str1 :\n",
        "  print((i+str2),end=\" \")"
      ],
      "metadata": {
        "colab": {
          "base_uri": "https://localhost:8080/"
        },
        "id": "DtsjlPGeWD0d",
        "outputId": "4def70a2-91c6-410a-9981-a536601e416e"
      },
      "execution_count": null,
      "outputs": [
        {
          "output_type": "stream",
          "name": "stdout",
          "text": [
            "Aate Bate Cate Date Eate Fate Gate Hate "
          ]
        }
      ]
    },
    {
      "cell_type": "markdown",
      "source": [
        "WRITE A PROGRAM TO EVALUATE LIST OF A CUBE'S TILL THE RANGE OF TEN."
      ],
      "metadata": {
        "id": "FP1qAIoTYwWO"
      }
    },
    {
      "cell_type": "code",
      "source": [
        "cubes=[]\n",
        "for i in range(11):\n",
        "  cubes.append(i**3)\n",
        "print(cubes)"
      ],
      "metadata": {
        "colab": {
          "base_uri": "https://localhost:8080/"
        },
        "id": "icPp5wE9Y7sJ",
        "outputId": "e1ee3af8-17e2-401a-ae16-024d5460dd6a"
      },
      "execution_count": null,
      "outputs": [
        {
          "output_type": "stream",
          "name": "stdout",
          "text": [
            "[0, 1, 8, 27, 64, 125, 216, 343, 512, 729, 1000]\n"
          ]
        }
      ]
    },
    {
      "cell_type": "code",
      "source": [
        "cubes=[i**3 for i in range(11)]; print(cubes)"
      ],
      "metadata": {
        "colab": {
          "base_uri": "https://localhost:8080/"
        },
        "id": "iSqd9EXMRubx",
        "outputId": "2843f5ae-a3c5-4229-977d-5c254f9734b1"
      },
      "execution_count": null,
      "outputs": [
        {
          "output_type": "stream",
          "name": "stdout",
          "text": [
            "[0, 1, 8, 27, 64, 125, 216, 343, 512, 729, 1000]\n"
          ]
        }
      ]
    },
    {
      "cell_type": "markdown",
      "source": [
        "WRITE A PROGRAM TO FIND THE SUM AND MEAN OF SERIES 0 TO 10."
      ],
      "metadata": {
        "id": "vi1ceYLDZzGO"
      }
    },
    {
      "cell_type": "code",
      "source": [
        "series=[1,2,3,4,5,6,7,8,9,10]\n",
        "sum=0\n",
        "mean=0\n",
        "for i in series :\n",
        "  sum=sum+i\n",
        "  i=i+1\n",
        "print(sum)\n",
        "mean=sum/len(series)\n",
        "print(mean)"
      ],
      "metadata": {
        "colab": {
          "base_uri": "https://localhost:8080/"
        },
        "id": "2-_GTEbDZ9Ui",
        "outputId": "5b4cd7d1-6546-4a10-c338-749793616657"
      },
      "execution_count": null,
      "outputs": [
        {
          "output_type": "stream",
          "name": "stdout",
          "text": [
            "55\n",
            "5.5\n"
          ]
        }
      ]
    },
    {
      "cell_type": "markdown",
      "source": [
        "#predefined functions\n",
        "len repitition in notin min max all any sort"
      ],
      "metadata": {
        "id": "50fnNlc4b1G2"
      }
    },
    {
      "cell_type": "code",
      "source": [
        "a=[10,30,4,89]\n",
        "print(min(a))\n",
        "print(max(a))\n",
        "#sum"
      ],
      "metadata": {
        "colab": {
          "base_uri": "https://localhost:8080/"
        },
        "id": "MMSS9d6cb8Ka",
        "outputId": "69b85b92-d74f-4c0d-b5c6-ddcd3f29b182"
      },
      "execution_count": null,
      "outputs": [
        {
          "output_type": "stream",
          "name": "stdout",
          "text": [
            "4\n",
            "89\n"
          ]
        }
      ]
    },
    {
      "cell_type": "code",
      "source": [
        "ab=[0, -99, 99, 231, 94,99]\n",
        "print(sorted(ab))\n",
        "ab.append(10)\n",
        "print(ab)\n",
        "ac=ab.count(99)\n",
        "print(ac)"
      ],
      "metadata": {
        "colab": {
          "base_uri": "https://localhost:8080/"
        },
        "id": "vSZxG0E9dvF6",
        "outputId": "79b09fdc-f7ec-4ce7-88d9-1f4fd31746f0"
      },
      "execution_count": null,
      "outputs": [
        {
          "output_type": "stream",
          "name": "stdout",
          "text": [
            "[-99, 0, 94, 99, 99, 231]\n",
            "[0, -99, 99, 231, 94, 99, 10]\n",
            "2\n"
          ]
        }
      ]
    },
    {
      "cell_type": "code",
      "source": [
        "ab=[2,6,7,4,7,8,4,9,2,5,1,9]\n",
        "ab.insert(3,100)\n",
        "print(ab)"
      ],
      "metadata": {
        "colab": {
          "base_uri": "https://localhost:8080/"
        },
        "id": "zF_LorMNgYk2",
        "outputId": "49995659-cf8d-4743-ba7f-87650e02e3e6"
      },
      "execution_count": null,
      "outputs": [
        {
          "output_type": "stream",
          "name": "stdout",
          "text": [
            "[2, 6, 7, 100, 4, 7, 8, 4, 9, 2, 5, 1, 9]\n"
          ]
        }
      ]
    },
    {
      "cell_type": "code",
      "source": [
        "ab=[2,6,7,4,7,8,4,9,2,5,1,9]\n",
        "ab.remove(1)\n",
        "print(ab)"
      ],
      "metadata": {
        "colab": {
          "base_uri": "https://localhost:8080/"
        },
        "id": "ZkcRXLxahN6H",
        "outputId": "495835d3-dde7-4fc2-820b-46dfbeeca462"
      },
      "execution_count": null,
      "outputs": [
        {
          "output_type": "stream",
          "name": "stdout",
          "text": [
            "[2, 6, 7, 4, 7, 8, 4, 9, 2, 5, 9]\n"
          ]
        }
      ]
    },
    {
      "cell_type": "markdown",
      "source": [
        "#TOWER OF HANOII"
      ],
      "metadata": {
        "id": "tx8ZXAkohlgH"
      }
    },
    {
      "cell_type": "code",
      "source": [
        "def TowerOfHanoi(n , s_pole, d_pole, i_pole):           \n",
        "    if n == 1:\n",
        "        print(\"Move disc 1 from pole\",s_pole,\"to pole\",d_pole)\n",
        "        return\n",
        "    TowerOfHanoi(n-1, s_pole, i_pole, d_pole)\n",
        "    print(\"Move disc\",n,\"from pole\",s_pole,\"to pole\",d_pole)\n",
        "    TowerOfHanoi(n-1, i_pole, d_pole, s_pole)\n",
        " \n",
        "n = 4\n",
        "TowerOfHanoi(n, 'A', 'C', 'B')"
      ],
      "metadata": {
        "colab": {
          "base_uri": "https://localhost:8080/"
        },
        "id": "9CFU3DBBiZQo",
        "outputId": "f5ea08d4-0292-483b-b43f-fb9c36cb49e7"
      },
      "execution_count": null,
      "outputs": [
        {
          "output_type": "stream",
          "name": "stdout",
          "text": [
            "Move disc 1 from pole A to pole B\n",
            "Move disc 2 from pole A to pole C\n",
            "Move disc 1 from pole B to pole C\n",
            "Move disc 3 from pole A to pole B\n",
            "Move disc 1 from pole C to pole A\n",
            "Move disc 2 from pole C to pole B\n",
            "Move disc 1 from pole A to pole B\n",
            "Move disc 4 from pole A to pole C\n",
            "Move disc 1 from pole B to pole C\n",
            "Move disc 2 from pole B to pole A\n",
            "Move disc 1 from pole C to pole A\n",
            "Move disc 3 from pole B to pole C\n",
            "Move disc 1 from pole A to pole B\n",
            "Move disc 2 from pole A to pole C\n",
            "Move disc 1 from pole B to pole C\n"
          ]
        }
      ]
    },
    {
      "cell_type": "code",
      "source": [
        "def hanoi (n , a, b, c):\n",
        "  if n>0:\n",
        "    hanoi(n-1, a ,c ,b)\n",
        "    if a:\n",
        "      c.append(a.pop())\n",
        "    hanoi(n-1, b, a, c)\n",
        "a=[1,2,3,4]\n",
        "b=[]\n",
        "c=[]\n",
        "hanoi(len(a),a,b,c)\n",
        "print(a,b,c)"
      ],
      "metadata": {
        "id": "kPFuTSx9uJjw",
        "colab": {
          "base_uri": "https://localhost:8080/"
        },
        "outputId": "56464b80-6b75-4b88-96fd-45fb8ba929a5"
      },
      "execution_count": null,
      "outputs": [
        {
          "output_type": "stream",
          "name": "stdout",
          "text": [
            "[] [] [1, 2, 3, 4]\n"
          ]
        }
      ]
    },
    {
      "cell_type": "code",
      "source": [
        "str=[12,55,75,38,74,37]\n",
        "len(str)"
      ],
      "metadata": {
        "colab": {
          "base_uri": "https://localhost:8080/"
        },
        "id": "nBLNqageL-ro",
        "outputId": "80c44d1d-1c0c-442d-c412-51961be4a339"
      },
      "execution_count": null,
      "outputs": [
        {
          "output_type": "execute_result",
          "data": {
            "text/plain": [
              "6"
            ]
          },
          "metadata": {},
          "execution_count": 3
        }
      ]
    },
    {
      "cell_type": "code",
      "source": [
        "num=[1,2,3,4,5,6,7,8,9,10]\n",
        "print(sum(num))"
      ],
      "metadata": {
        "colab": {
          "base_uri": "https://localhost:8080/"
        },
        "id": "nA9f73cNMimZ",
        "outputId": "ba48d4ec-9318-46fa-b48d-ab089992e64b"
      },
      "execution_count": null,
      "outputs": [
        {
          "output_type": "stream",
          "name": "stdout",
          "text": [
            "55\n"
          ]
        }
      ]
    },
    {
      "cell_type": "code",
      "source": [
        "num=[1,2,3,4,5,6,7,8,9,10]\n",
        "num.reverse()\n",
        "print(num)"
      ],
      "metadata": {
        "colab": {
          "base_uri": "https://localhost:8080/"
        },
        "id": "uVMjiscxODjM",
        "outputId": "30493187-303c-451f-da48-3b99ca3441be"
      },
      "execution_count": null,
      "outputs": [
        {
          "output_type": "stream",
          "name": "stdout",
          "text": [
            "[10, 9, 8, 7, 6, 5, 4, 3, 2, 1]\n"
          ]
        }
      ]
    },
    {
      "cell_type": "code",
      "source": [
        "num=[-9,67,38,7,-23,45]\n",
        "num.sort()\n",
        "print(num)"
      ],
      "metadata": {
        "colab": {
          "base_uri": "https://localhost:8080/"
        },
        "id": "0OvWrKxfONvP",
        "outputId": "6b5ac8c5-d57f-46e8-c928-a5ce04ddb090"
      },
      "execution_count": null,
      "outputs": [
        {
          "output_type": "stream",
          "name": "stdout",
          "text": [
            "[-23, -9, 7, 38, 45, 67]\n"
          ]
        }
      ]
    },
    {
      "cell_type": "code",
      "source": [
        "num=['7', 'd', 'abc', '2', 'S', 'def']\n",
        "num.sort()                              #prints acc to the ASCII values\n",
        "print(num)"
      ],
      "metadata": {
        "colab": {
          "base_uri": "https://localhost:8080/"
        },
        "id": "q4eLvB4_Ox_3",
        "outputId": "80fbd026-4f96-452b-817a-abf03faba0cb"
      },
      "execution_count": null,
      "outputs": [
        {
          "output_type": "stream",
          "name": "stdout",
          "text": [
            "['2', '7', 'S', 'abc', 'd', 'def']\n"
          ]
        }
      ]
    },
    {
      "cell_type": "code",
      "source": [
        "num=['p','r','o','g','r','a','m']\n",
        "num[2:5]=[]                           #assigning the deleted vaues\n",
        "print(num)"
      ],
      "metadata": {
        "colab": {
          "base_uri": "https://localhost:8080/"
        },
        "id": "4mUHi355QIq8",
        "outputId": "6eff1080-4c1a-4182-a1fc-84d189b829f0"
      },
      "execution_count": null,
      "outputs": [
        {
          "output_type": "stream",
          "name": "stdout",
          "text": [
            "['p', 'r', 'a', 'm']\n"
          ]
        }
      ]
    },
    {
      "cell_type": "code",
      "source": [
        "list=[1,2,3,4]\n",
        "index=0\n",
        "for i in list :\n",
        "  print(\"Index [\",index,\" ]:\",i)\n",
        "  index=index+1"
      ],
      "metadata": {
        "colab": {
          "base_uri": "https://localhost:8080/"
        },
        "id": "hlPsL43nTQk5",
        "outputId": "5bd9a487-8edc-4871-fb55-549ca04015e3"
      },
      "execution_count": null,
      "outputs": [
        {
          "output_type": "stream",
          "name": "stdout",
          "text": [
            "Index [ 0  ]: 1\n",
            "Index [ 1  ]: 2\n",
            "Index [ 2  ]: 3\n",
            "Index [ 3  ]: 4\n"
          ]
        }
      ]
    },
    {
      "cell_type": "markdown",
      "source": [
        "A WASHING MACHINE WORKS ON THE PRINCIPLE OF FUZZY SYSTEM, THW WEIGHT OF THE CLOTHES PUT INSIDE IT FOR WASHING IS UNCERTAIN BUT BASED ON THE WEIGHT "
      ],
      "metadata": {
        "id": "R4sFy2DjXnDO"
      }
    },
    {
      "cell_type": "code",
      "source": [
        "n=int(input())\n",
        "if n==0:\n",
        "  print(\"Time Estimates : 0 minutes\")\n",
        "elif n in range(1,2000) :\n",
        "   print(\"Time Estimates : 25 minutes\")\n",
        "elif n in range(2001,4000) :\n",
        "  print(\"Time Estimates : 35 minutes\")\n",
        "elif n in range(4001,7000) :\n",
        "  print(\"Time Estimates : 45 minutes\")\n",
        "else :\n",
        "  print(\"invalid input\")"
      ],
      "metadata": {
        "colab": {
          "base_uri": "https://localhost:8080/"
        },
        "id": "P2ZpkdwChr-Q",
        "outputId": "124271f6-9d71-4884-d80c-a2875b28d538"
      },
      "execution_count": null,
      "outputs": [
        {
          "output_type": "stream",
          "name": "stdout",
          "text": [
            "4600\n",
            "Time Estimates : 45 minutes\n"
          ]
        }
      ]
    },
    {
      "cell_type": "code",
      "source": [
        "#find the 15th and 16th term of the series 0,0,7,6,14,12,21,18,.........................................."
      ],
      "metadata": {
        "id": "YcHe--NEbe3p"
      },
      "execution_count": null,
      "outputs": []
    },
    {
      "cell_type": "code",
      "source": [
        "n=int(input(\"enter the term to be found :\"))\n",
        "i=n//2\n",
        "if n%2==0  and i!=1:\n",
        "  term=i*6\n",
        "elif i==1 :\n",
        "  term=0\n",
        "else :\n",
        "  term=i*7\n",
        "print(term)"
      ],
      "metadata": {
        "colab": {
          "base_uri": "https://localhost:8080/"
        },
        "id": "gufvNYTlhx0Y",
        "outputId": "f4be90fa-1aba-4495-e013-1eb492e8c6e4"
      },
      "execution_count": null,
      "outputs": [
        {
          "output_type": "stream",
          "name": "stdout",
          "text": [
            "enter the term to be found :2\n",
            "0\n"
          ]
        }
      ]
    },
    {
      "cell_type": "code",
      "source": [],
      "metadata": {
        "id": "IPUqNpYKlq-P"
      },
      "execution_count": null,
      "outputs": []
    }
  ]
}