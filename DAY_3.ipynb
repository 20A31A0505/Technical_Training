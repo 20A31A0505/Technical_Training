{
  "cells": [
    {
      "cell_type": "markdown",
      "metadata": {
        "id": "view-in-github",
        "colab_type": "text"
      },
      "source": [
        "<a href=\"https://colab.research.google.com/github/20A31A0505/Technical_Training/blob/main/DAY_3.ipynb\" target=\"_parent\"><img src=\"https://colab.research.google.com/assets/colab-badge.svg\" alt=\"Open In Colab\"/></a>"
      ]
    },
    {
      "cell_type": "markdown",
      "metadata": {
        "id": "wF4bpDScYRqf"
      },
      "source": [
        "#STRINGS"
      ]
    },
    {
      "cell_type": "code",
      "execution_count": null,
      "metadata": {
        "colab": {
          "base_uri": "https://localhost:8080/"
        },
        "id": "mVZ2RvCdYUr8",
        "outputId": "39379147-92ca-4bc7-d7cd-ba0e37a1e10b"
      },
      "outputs": [
        {
          "name": "stdout",
          "output_type": "stream",
          "text": [
            "message[ 0 ]= d\n",
            "message[ 1 ]= i\n",
            "message[ 2 ]= v\n",
            "message[ 3 ]= y\n",
            "message[ 4 ]= a\n"
          ]
        }
      ],
      "source": [
        "#strings basic format\n",
        "txt='divya'\n",
        "index=0\n",
        "for i in txt :\n",
        "  print(\"message[\",index,\"]=\",i)\n",
        "  index+=1"
      ]
    },
    {
      "cell_type": "code",
      "execution_count": null,
      "metadata": {
        "colab": {
          "base_uri": "https://localhost:8080/"
        },
        "id": "DSfkqEUZbMPI",
        "outputId": "052b9591-da61-4340-8784-6ee822e097ad"
      },
      "outputs": [
        {
          "name": "stdout",
          "output_type": "stream",
          "text": [
            "Inside Out\n"
          ]
        }
      ],
      "source": [
        "#strings functions\n",
        "txt='inside out'\n",
        "print(txt.title())"
      ]
    },
    {
      "cell_type": "code",
      "execution_count": null,
      "metadata": {
        "colab": {
          "base_uri": "https://localhost:8080/"
        },
        "id": "SwKeV5yNbxZI",
        "outputId": "3c417738-d6fa-44fa-f124-95a9cc1c877f"
      },
      "outputs": [
        {
          "name": "stdout",
          "output_type": "stream",
          "text": [
            "SIRI\n"
          ]
        }
      ],
      "source": [
        "txt='siri'\n",
        "print(txt.upper())"
      ]
    },
    {
      "cell_type": "code",
      "execution_count": null,
      "metadata": {
        "colab": {
          "base_uri": "https://localhost:8080/"
        },
        "id": "AHrQndyMcSpC",
        "outputId": "954fae01-8c94-4dd0-ff36-1f51d3b17db1"
      },
      "outputs": [
        {
          "name": "stdout",
          "output_type": "stream",
          "text": [
            "abhi\n"
          ]
        }
      ],
      "source": [
        "txt='ABHI'\n",
        "print(txt.lower())"
      ]
    },
    {
      "cell_type": "code",
      "execution_count": null,
      "metadata": {
        "colab": {
          "base_uri": "https://localhost:8080/"
        },
        "id": "PMbYfrh5cqb8",
        "outputId": "d47a677f-c58a-4fb9-a4ce-8c6c00a456e1"
      },
      "outputs": [
        {
          "output_type": "stream",
          "name": "stdout",
          "text": [
            "0000000007\n"
          ]
        }
      ],
      "source": [
        "#zfill.............Zerofilling\n",
        "num='7'\n",
        "print(num.zfill(10))"
      ]
    },
    {
      "cell_type": "code",
      "source": [
        "#ARMSTRONG NUMBER\n",
        "n=int(input())\n",
        "order=len(str(n))\n",
        "s=0\n",
        "while(n>0):\n",
        "  r=n%10\n",
        "  s+=r*order\n",
        "  n=n//10\n",
        "if s==n :\n",
        "   print(\"armstrong number\")\n",
        "else :\n",
        "  print(\"not an armstrong\")"
      ],
      "metadata": {
        "colab": {
          "base_uri": "https://localhost:8080/"
        },
        "id": "M556nPZyjdY5",
        "outputId": "8a8cd701-831d-4a97-e955-badf00fa8003"
      },
      "execution_count": null,
      "outputs": [
        {
          "output_type": "stream",
          "name": "stdout",
          "text": [
            "407\n",
            "not an armstrong\n"
          ]
        }
      ]
    },
    {
      "cell_type": "code",
      "source": [
        "txt='  hi students  '\n",
        "print(txt.lstrip())"
      ],
      "metadata": {
        "colab": {
          "base_uri": "https://localhost:8080/"
        },
        "id": "bwO1bQx6lDI1",
        "outputId": "466faccf-3088-48a8-d4af-a0ef264d5688"
      },
      "execution_count": null,
      "outputs": [
        {
          "output_type": "stream",
          "name": "stdout",
          "text": [
            "hi students  \n"
          ]
        }
      ]
    },
    {
      "cell_type": "code",
      "source": [
        "txt='hi students           '\n",
        "print(txt.rstrip())"
      ],
      "metadata": {
        "colab": {
          "base_uri": "https://localhost:8080/"
        },
        "id": "6Zzodat4la2O",
        "outputId": "1514f163-73e3-4e1f-cbd9-6e9f96c477bd"
      },
      "execution_count": null,
      "outputs": [
        {
          "output_type": "stream",
          "name": "stdout",
          "text": [
            "hi students\n"
          ]
        }
      ]
    },
    {
      "cell_type": "code",
      "source": [
        "txt='divya'\n",
        "print(max(txt))\n",
        "print(min(txt))"
      ],
      "metadata": {
        "colab": {
          "base_uri": "https://localhost:8080/"
        },
        "id": "zuJPTvQKlpu0",
        "outputId": "e4438d90-2142-43f9-aab5-ddf269db7d79"
      },
      "execution_count": null,
      "outputs": [
        {
          "output_type": "stream",
          "name": "stdout",
          "text": [
            "y\n",
            "a\n",
            "y\n",
            "a\n"
          ]
        }
      ]
    },
    {
      "cell_type": "code",
      "source": [
        "txt= ' ds ds ds ds ds '\n",
        "print(txt.replace('s','i'))"
      ],
      "metadata": {
        "colab": {
          "base_uri": "https://localhost:8080/"
        },
        "id": "CB93YdZhm7kY",
        "outputId": "11aa647b-2fc4-49b7-dd9b-b963add02a46"
      },
      "execution_count": null,
      "outputs": [
        {
          "output_type": "stream",
          "name": "stdout",
          "text": [
            " di di di di di \n"
          ]
        }
      ]
    },
    {
      "cell_type": "code",
      "source": [
        "txt= 'Dattu And Abhi '\n",
        "print(txt.swapcase())"
      ],
      "metadata": {
        "colab": {
          "base_uri": "https://localhost:8080/"
        },
        "id": "wVsRfpMQnZBo",
        "outputId": "c9ed620c-bfbc-4e12-dd9a-c355db1c2eed"
      },
      "execution_count": null,
      "outputs": [
        {
          "output_type": "stream",
          "name": "stdout",
          "text": [
            "dATTU aND aBHI \n"
          ]
        }
      ]
    },
    {
      "cell_type": "code",
      "source": [
        "txt='abc, def, ghi, jkl'\n",
        "print(txt.split(','))\n",
        "print(txt.split('-'))"
      ],
      "metadata": {
        "colab": {
          "base_uri": "https://localhost:8080/"
        },
        "id": "xPZevkmioYmB",
        "outputId": "77af0480-bf0c-46ad-90ea-787848439a57"
      },
      "execution_count": null,
      "outputs": [
        {
          "output_type": "stream",
          "name": "stdout",
          "text": [
            "['abc', ' def', ' ghi', ' jkl']\n",
            "['abc, def, ghi, jkl']\n"
          ]
        }
      ]
    },
    {
      "cell_type": "code",
      "source": [
        "print('-'.join(['abc', 'def', 'ghi', 'jkl']))"
      ],
      "metadata": {
        "colab": {
          "base_uri": "https://localhost:8080/"
        },
        "id": "Du97ctvPpGbR",
        "outputId": "c905ad86-dd4f-442c-e4e7-9437782b6507"
      },
      "execution_count": null,
      "outputs": [
        {
          "output_type": "stream",
          "name": "stdout",
          "text": [
            "abc-def-ghi-jkl\n"
          ]
        }
      ]
    },
    {
      "cell_type": "code",
      "source": [
        "txt= 'this is a boring class'\n",
        "print(list(enumerate(txt)))"
      ],
      "metadata": {
        "colab": {
          "base_uri": "https://localhost:8080/"
        },
        "id": "hs6gePB7p_bU",
        "outputId": "55af1dcd-fde4-4f93-8a91-9ec1b8979ebf"
      },
      "execution_count": null,
      "outputs": [
        {
          "output_type": "stream",
          "name": "stdout",
          "text": [
            "[(0, 't'), (1, 'h'), (2, 'i'), (3, 's'), (4, ' '), (5, 'i'), (6, 's'), (7, ' '), (8, 'a'), (9, ' '), (10, 'b'), (11, 'o'), (12, 'r'), (13, 'i'), (14, 'n'), (15, 'g'), (16, ' '), (17, 'c'), (18, 'l'), (19, 'a'), (20, 's'), (21, 's')]\n"
          ]
        }
      ]
    },
    {
      "cell_type": "code",
      "source": [
        "txt = 'msd07'\n",
        "print(txt.isalnum())\n",
        "print(txt.isalpha())\n",
        "print(txt.isdigit())\n",
        "print(txt.isnumeric())"
      ],
      "metadata": {
        "colab": {
          "base_uri": "https://localhost:8080/"
        },
        "id": "8FoUoRdvrGFa",
        "outputId": "36e24a6c-d09c-4bc5-bcef-0d603abf10ad"
      },
      "execution_count": null,
      "outputs": [
        {
          "output_type": "stream",
          "name": "stdout",
          "text": [
            "True\n",
            "False\n",
            "False\n",
            "False\n"
          ]
        }
      ]
    },
    {
      "cell_type": "code",
      "source": [
        "txt='wo din'\n",
        "print(txt.islower())\n",
        "print(txt.isupper())\n",
        "print(txt.isspace())"
      ],
      "metadata": {
        "colab": {
          "base_uri": "https://localhost:8080/"
        },
        "id": "26WKiJT7rVSR",
        "outputId": "565b8a8c-a222-4164-a920-de2e9a232c1d"
      },
      "execution_count": null,
      "outputs": [
        {
          "output_type": "stream",
          "name": "stdout",
          "text": [
            "True\n",
            "False\n",
            "False\n"
          ]
        }
      ]
    },
    {
      "cell_type": "code",
      "source": [
        "txt = \"divya sri\"\n",
        "print(len(txt))"
      ],
      "metadata": {
        "colab": {
          "base_uri": "https://localhost:8080/"
        },
        "id": "CivPvPi6sKTB",
        "outputId": "c88c2f63-44f4-41bf-ff3c-01f5454fcab0"
      },
      "execution_count": null,
      "outputs": [
        {
          "output_type": "stream",
          "name": "stdout",
          "text": [
            "9\n"
          ]
        }
      ]
    },
    {
      "cell_type": "code",
      "source": [
        "txt= \"siri\"\n",
        "print(txt.ljust(10,'^'))\n",
        "print(txt.rjust(10,'^'))\n",
        "print(txt.center(20,'^'))"
      ],
      "metadata": {
        "colab": {
          "base_uri": "https://localhost:8080/"
        },
        "id": "3DMoTfmzsg1R",
        "outputId": "0c802851-8cc9-4a87-8f79-f74d05f37440"
      },
      "execution_count": null,
      "outputs": [
        {
          "output_type": "stream",
          "name": "stdout",
          "text": [
            "siri^^^^^^\n",
            "^^^^^^siri\n",
            "^^^^^^^^siri^^^^^^^^\n"
          ]
        }
      ]
    },
    {
      "cell_type": "code",
      "source": [
        "txt='light'\n",
        "print(txt)\n",
        "print(txt[1:5])\n",
        "print(txt[:6])\n",
        "print(txt[:])\n",
        "print(txt[-4])"
      ],
      "metadata": {
        "colab": {
          "base_uri": "https://localhost:8080/"
        },
        "id": "szuB8eFpyBJB",
        "outputId": "55ead359-4d07-4100-e5d1-875698612c69"
      },
      "execution_count": null,
      "outputs": [
        {
          "output_type": "stream",
          "name": "stdout",
          "text": [
            "light\n",
            "ight\n",
            "light\n",
            "light\n",
            "i\n"
          ]
        }
      ]
    },
    {
      "cell_type": "code",
      "source": [
        "txt='baarish'\n",
        "print(txt[::-1])\n",
        "print(txt[::3])"
      ],
      "metadata": {
        "colab": {
          "base_uri": "https://localhost:8080/"
        },
        "id": "Pv1StifKyFyb",
        "outputId": "3edf5288-04a0-4720-a5f6-bb5713ce86ef"
      },
      "execution_count": null,
      "outputs": [
        {
          "output_type": "stream",
          "name": "stdout",
          "text": [
            "hsiraab\n",
            "brh\n"
          ]
        }
      ]
    },
    {
      "cell_type": "code",
      "source": [
        "txt='ye mausam ki baarish'\n",
        "print(txt[::-1])\n",
        "print(txt[::3])"
      ],
      "metadata": {
        "colab": {
          "base_uri": "https://localhost:8080/"
        },
        "id": "1BQ-oaKYyKMQ",
        "outputId": "31a64411-fbf0-4bf9-ec06-408fb8f63443"
      },
      "execution_count": null,
      "outputs": [
        {
          "output_type": "stream",
          "name": "stdout",
          "text": [
            "hsiraab ik masuam ey\n",
            "yms  as\n"
          ]
        }
      ]
    },
    {
      "cell_type": "code",
      "source": [
        "ch='a'\n",
        "print(ord(ch))"
      ],
      "metadata": {
        "colab": {
          "base_uri": "https://localhost:8080/"
        },
        "id": "1Sq-oHykyMTc",
        "outputId": "69d9c573-4648-4ee1-b224-968cbd74423b"
      },
      "execution_count": null,
      "outputs": [
        {
          "output_type": "stream",
          "name": "stdout",
          "text": [
            "97\n"
          ]
        }
      ]
    },
    {
      "cell_type": "code",
      "source": [
        "ch='A'\n",
        "print(ord(ch))"
      ],
      "metadata": {
        "colab": {
          "base_uri": "https://localhost:8080/"
        },
        "id": "NUORadXsyTEA",
        "outputId": "d74ffa4b-dd7d-46f1-b6ad-4582a9994c8f"
      },
      "execution_count": null,
      "outputs": [
        {
          "output_type": "stream",
          "name": "stdout",
          "text": [
            "65\n"
          ]
        }
      ]
    },
    {
      "cell_type": "code",
      "source": [
        "ch='['\n",
        "print(ord(ch))"
      ],
      "metadata": {
        "colab": {
          "base_uri": "https://localhost:8080/"
        },
        "id": "Qz_-Eo-iyZDG",
        "outputId": "4771df5d-969a-4f9e-e717-45876e97d112"
      },
      "execution_count": null,
      "outputs": [
        {
          "output_type": "stream",
          "name": "stdout",
          "text": [
            "91\n"
          ]
        }
      ]
    },
    {
      "cell_type": "code",
      "source": [
        "ch='\\\\'\n",
        "print(ord(ch))"
      ],
      "metadata": {
        "colab": {
          "base_uri": "https://localhost:8080/"
        },
        "id": "NcGSFn-aybb6",
        "outputId": "926cc864-1ee0-4563-84f0-04b3255350ec"
      },
      "execution_count": null,
      "outputs": [
        {
          "output_type": "stream",
          "name": "stdout",
          "text": [
            "92\n"
          ]
        }
      ]
    },
    {
      "cell_type": "code",
      "source": [
        "print(chr(65))"
      ],
      "metadata": {
        "colab": {
          "base_uri": "https://localhost:8080/"
        },
        "id": "p8PGfl2nybm4",
        "outputId": "e0fbb8b6-7142-4ded-bb4a-d89c4f90bd7c"
      },
      "execution_count": null,
      "outputs": [
        {
          "output_type": "stream",
          "name": "stdout",
          "text": [
            "A\n"
          ]
        }
      ]
    },
    {
      "cell_type": "code",
      "source": [
        "print(chr(97))"
      ],
      "metadata": {
        "colab": {
          "base_uri": "https://localhost:8080/"
        },
        "id": "bTEeF32Pyhfp",
        "outputId": "ad80cf11-c19a-4a47-ac53-dbf076aadf15"
      },
      "execution_count": null,
      "outputs": [
        {
          "output_type": "stream",
          "name": "stdout",
          "text": [
            "a\n"
          ]
        }
      ]
    },
    {
      "cell_type": "code",
      "source": [
        "txt1= 'mere sawaal ka'\n",
        "txt2= 'ka'\n",
        "if txt2 in txt1 :\n",
        "  print(\"found\")\n",
        "else :\n",
        "  print(\"not found\")"
      ],
      "metadata": {
        "colab": {
          "base_uri": "https://localhost:8080/"
        },
        "id": "6neMLA3GyvRm",
        "outputId": "a207ce3e-5da4-4175-e0ac-61f67f67c054"
      },
      "execution_count": null,
      "outputs": [
        {
          "output_type": "stream",
          "name": "stdout",
          "text": [
            "found\n"
          ]
        }
      ]
    },
    {
      "cell_type": "code",
      "source": [
        "txt1= 'mere sawaal ka'\n",
        "txt2= 'mr'\n",
        "if txt2 in txt1 :\n",
        "  print(\"found\")\n",
        "else :\n",
        "  print(\"not found\")"
      ],
      "metadata": {
        "colab": {
          "base_uri": "https://localhost:8080/"
        },
        "id": "qIvyTiyNy1ow",
        "outputId": "34557a62-9ca6-496a-f967-4fa3a0648601"
      },
      "execution_count": null,
      "outputs": [
        {
          "output_type": "stream",
          "name": "stdout",
          "text": [
            "not found\n"
          ]
        }
      ]
    },
    {
      "cell_type": "code",
      "source": [
        "txt1= 'mere sawaal ka'\n",
        "txt2= ' s'\n",
        "if txt2 in txt1 :\n",
        "  print(\"found\")\n",
        "else :\n",
        "  print(\"not found\")"
      ],
      "metadata": {
        "colab": {
          "base_uri": "https://localhost:8080/"
        },
        "id": "aAiLXx4Ay7w2",
        "outputId": "bcc7e5c5-6db1-498f-a145-cf47b7818b29"
      },
      "execution_count": null,
      "outputs": [
        {
          "output_type": "stream",
          "name": "stdout",
          "text": [
            "found\n"
          ]
        }
      ]
    },
    {
      "cell_type": "code",
      "source": [
        "txt=' india is great'\n",
        "for i in txt :\n",
        "  print(i,end=' ')"
      ],
      "metadata": {
        "colab": {
          "base_uri": "https://localhost:8080/"
        },
        "id": "ialYXkWPy90S",
        "outputId": "d24b10d3-0cf0-476d-95cc-24e0015db4e8"
      },
      "execution_count": null,
      "outputs": [
        {
          "output_type": "stream",
          "name": "stdout",
          "text": [
            "  i n d i a   i s   g r e a t "
          ]
        }
      ]
    },
    {
      "cell_type": "code",
      "source": [
        "txt=' india is great'\n",
        "i=0\n",
        "while(i<len(txt)):\n",
        "  d=txt[i]\n",
        "  print(d,end=\" \")\n",
        "  i=i+1"
      ],
      "metadata": {
        "colab": {
          "base_uri": "https://localhost:8080/"
        },
        "id": "-749qdd7zDdf",
        "outputId": "daffd057-f121-43a5-a972-0eba9e865b0f"
      },
      "execution_count": null,
      "outputs": [
        {
          "output_type": "stream",
          "name": "stdout",
          "text": [
            "  i n d i a   i s   g r e a t "
          ]
        }
      ]
    },
    {
      "cell_type": "code",
      "source": [
        "#right angle triangle with characters\n",
        "n=int(input())\n",
        "for i in range(1, n+1) :\n",
        "  ch='A'\n",
        "  print()\n",
        "  for j in range(1, i+1):\n",
        "    print(ch,end=\" \")\n",
        "    ch=chr(ord(ch)+1)"
      ],
      "metadata": {
        "colab": {
          "base_uri": "https://localhost:8080/"
        },
        "id": "3yaXRf7OzGvy",
        "outputId": "3e6cbe91-1107-42b6-b002-278e78c12dd3"
      },
      "execution_count": null,
      "outputs": [
        {
          "output_type": "stream",
          "name": "stdout",
          "text": [
            "77\n",
            "\n",
            "A \n",
            "A B \n",
            "A B C \n",
            "A B C D \n",
            "A B C D E \n",
            "A B C D E F \n",
            "A B C D E F G \n",
            "A B C D E F G H \n",
            "A B C D E F G H I \n",
            "A B C D E F G H I J \n",
            "A B C D E F G H I J K \n",
            "A B C D E F G H I J K L \n",
            "A B C D E F G H I J K L M \n",
            "A B C D E F G H I J K L M N \n",
            "A B C D E F G H I J K L M N O \n",
            "A B C D E F G H I J K L M N O P \n",
            "A B C D E F G H I J K L M N O P Q \n",
            "A B C D E F G H I J K L M N O P Q R \n",
            "A B C D E F G H I J K L M N O P Q R S \n",
            "A B C D E F G H I J K L M N O P Q R S T \n",
            "A B C D E F G H I J K L M N O P Q R S T U \n",
            "A B C D E F G H I J K L M N O P Q R S T U V \n",
            "A B C D E F G H I J K L M N O P Q R S T U V W \n",
            "A B C D E F G H I J K L M N O P Q R S T U V W X \n",
            "A B C D E F G H I J K L M N O P Q R S T U V W X Y \n",
            "A B C D E F G H I J K L M N O P Q R S T U V W X Y Z \n",
            "A B C D E F G H I J K L M N O P Q R S T U V W X Y Z [ \n",
            "A B C D E F G H I J K L M N O P Q R S T U V W X Y Z [ \\ \n",
            "A B C D E F G H I J K L M N O P Q R S T U V W X Y Z [ \\ ] \n",
            "A B C D E F G H I J K L M N O P Q R S T U V W X Y Z [ \\ ] ^ \n",
            "A B C D E F G H I J K L M N O P Q R S T U V W X Y Z [ \\ ] ^ _ \n",
            "A B C D E F G H I J K L M N O P Q R S T U V W X Y Z [ \\ ] ^ _ ` \n",
            "A B C D E F G H I J K L M N O P Q R S T U V W X Y Z [ \\ ] ^ _ ` a \n",
            "A B C D E F G H I J K L M N O P Q R S T U V W X Y Z [ \\ ] ^ _ ` a b \n",
            "A B C D E F G H I J K L M N O P Q R S T U V W X Y Z [ \\ ] ^ _ ` a b c \n",
            "A B C D E F G H I J K L M N O P Q R S T U V W X Y Z [ \\ ] ^ _ ` a b c d \n",
            "A B C D E F G H I J K L M N O P Q R S T U V W X Y Z [ \\ ] ^ _ ` a b c d e \n",
            "A B C D E F G H I J K L M N O P Q R S T U V W X Y Z [ \\ ] ^ _ ` a b c d e f \n",
            "A B C D E F G H I J K L M N O P Q R S T U V W X Y Z [ \\ ] ^ _ ` a b c d e f g \n",
            "A B C D E F G H I J K L M N O P Q R S T U V W X Y Z [ \\ ] ^ _ ` a b c d e f g h \n",
            "A B C D E F G H I J K L M N O P Q R S T U V W X Y Z [ \\ ] ^ _ ` a b c d e f g h i \n",
            "A B C D E F G H I J K L M N O P Q R S T U V W X Y Z [ \\ ] ^ _ ` a b c d e f g h i j \n",
            "A B C D E F G H I J K L M N O P Q R S T U V W X Y Z [ \\ ] ^ _ ` a b c d e f g h i j k \n",
            "A B C D E F G H I J K L M N O P Q R S T U V W X Y Z [ \\ ] ^ _ ` a b c d e f g h i j k l \n",
            "A B C D E F G H I J K L M N O P Q R S T U V W X Y Z [ \\ ] ^ _ ` a b c d e f g h i j k l m \n",
            "A B C D E F G H I J K L M N O P Q R S T U V W X Y Z [ \\ ] ^ _ ` a b c d e f g h i j k l m n \n",
            "A B C D E F G H I J K L M N O P Q R S T U V W X Y Z [ \\ ] ^ _ ` a b c d e f g h i j k l m n o \n",
            "A B C D E F G H I J K L M N O P Q R S T U V W X Y Z [ \\ ] ^ _ ` a b c d e f g h i j k l m n o p \n",
            "A B C D E F G H I J K L M N O P Q R S T U V W X Y Z [ \\ ] ^ _ ` a b c d e f g h i j k l m n o p q \n",
            "A B C D E F G H I J K L M N O P Q R S T U V W X Y Z [ \\ ] ^ _ ` a b c d e f g h i j k l m n o p q r \n",
            "A B C D E F G H I J K L M N O P Q R S T U V W X Y Z [ \\ ] ^ _ ` a b c d e f g h i j k l m n o p q r s \n",
            "A B C D E F G H I J K L M N O P Q R S T U V W X Y Z [ \\ ] ^ _ ` a b c d e f g h i j k l m n o p q r s t \n",
            "A B C D E F G H I J K L M N O P Q R S T U V W X Y Z [ \\ ] ^ _ ` a b c d e f g h i j k l m n o p q r s t u \n",
            "A B C D E F G H I J K L M N O P Q R S T U V W X Y Z [ \\ ] ^ _ ` a b c d e f g h i j k l m n o p q r s t u v \n",
            "A B C D E F G H I J K L M N O P Q R S T U V W X Y Z [ \\ ] ^ _ ` a b c d e f g h i j k l m n o p q r s t u v w \n",
            "A B C D E F G H I J K L M N O P Q R S T U V W X Y Z [ \\ ] ^ _ ` a b c d e f g h i j k l m n o p q r s t u v w x \n",
            "A B C D E F G H I J K L M N O P Q R S T U V W X Y Z [ \\ ] ^ _ ` a b c d e f g h i j k l m n o p q r s t u v w x y \n",
            "A B C D E F G H I J K L M N O P Q R S T U V W X Y Z [ \\ ] ^ _ ` a b c d e f g h i j k l m n o p q r s t u v w x y z \n",
            "A B C D E F G H I J K L M N O P Q R S T U V W X Y Z [ \\ ] ^ _ ` a b c d e f g h i j k l m n o p q r s t u v w x y z { \n",
            "A B C D E F G H I J K L M N O P Q R S T U V W X Y Z [ \\ ] ^ _ ` a b c d e f g h i j k l m n o p q r s t u v w x y z { | \n",
            "A B C D E F G H I J K L M N O P Q R S T U V W X Y Z [ \\ ] ^ _ ` a b c d e f g h i j k l m n o p q r s t u v w x y z { | } \n",
            "A B C D E F G H I J K L M N O P Q R S T U V W X Y Z [ \\ ] ^ _ ` a b c d e f g h i j k l m n o p q r s t u v w x y z { | } ~ \n",
            "A B C D E F G H I J K L M N O P Q R S T U V W X Y Z [ \\ ] ^ _ ` a b c d e f g h i j k l m n o p q r s t u v w x y z { | } ~  \n",
            "A B C D E F G H I J K L M N O P Q R S T U V W X Y Z [ \\ ] ^ _ ` a b c d e f g h i j k l m n o p q r s t u v w x y z { | } ~   \n",
            "A B C D E F G H I J K L M N O P Q R S T U V W X Y Z [ \\ ] ^ _ ` a b c d e f g h i j k l m n o p q r s t u v w x y z { | } ~    \n",
            "A B C D E F G H I J K L M N O P Q R S T U V W X Y Z [ \\ ] ^ _ ` a b c d e f g h i j k l m n o p q r s t u v w x y z { | } ~     \n",
            "A B C D E F G H I J K L M N O P Q R S T U V W X Y Z [ \\ ] ^ _ ` a b c d e f g h i j k l m n o p q r s t u v w x y z { | } ~      \n",
            "A B C D E F G H I J K L M N O P Q R S T U V W X Y Z [ \\ ] ^ _ ` a b c d e f g h i j k l m n o p q r s t u v w x y z { | } ~       \n",
            "A B C D E F G H I J K L M N O P Q R S T U V W X Y Z [ \\ ] ^ _ ` a b c d e f g h i j k l m n o p q r s t u v w x y z { | } ~        \n",
            "A B C D E F G H I J K L M N O P Q R S T U V W X Y Z [ \\ ] ^ _ ` a b c d e f g h i j k l m n o p q r s t u v w x y z { | } ~         \n",
            "A B C D E F G H I J K L M N O P Q R S T U V W X Y Z [ \\ ] ^ _ ` a b c d e f g h i j k l m n o p q r s t u v w x y z { | } ~          \n",
            "A B C D E F G H I J K L M N O P Q R S T U V W X Y Z [ \\ ] ^ _ ` a b c d e f g h i j k l m n o p q r s t u v w x y z { | } ~           \n",
            "A B C D E F G H I J K L M N O P Q R S T U V W X Y Z [ \\ ] ^ _ ` a b c d e f g h i j k l m n o p q r s t u v w x y z { | } ~            \n",
            "A B C D E F G H I J K L M N O P Q R S T U V W X Y Z [ \\ ] ^ _ ` a b c d e f g h i j k l m n o p q r s t u v w x y z { | } ~             \n",
            "A B C D E F G H I J K L M N O P Q R S T U V W X Y Z [ \\ ] ^ _ ` a b c d e f g h i j k l m n o p q r s t u v w x y z { | } ~              \n",
            "A B C D E F G H I J K L M N O P Q R S T U V W X Y Z [ \\ ] ^ _ ` a b c d e f g h i j k l m n o p q r s t u v w x y z { | } ~               \n",
            "A B C D E F G H I J K L M N O P Q R S T U V W X Y Z [ \\ ] ^ _ ` a b c d e f g h i j k l m n o p q r s t u v w x y z { | } ~                "
          ]
        }
      ]
    },
    {
      "cell_type": "markdown",
      "source": [
        "ARUN IS A RAW AGENT WORKING IN IRAQ FOR INDIA.HE GOT TO KNOW THAT IRAQ IS PLANNING TO ATTACK INDIA . HE NEEDS TO SEND THE DANGER MESSAGE TO INDIAN AMBASSY IN CYBER CODE.\n",
        "\n"
      ],
      "metadata": {
        "id": "pmQT6vlwzQUC"
      }
    },
    {
      "cell_type": "code",
      "source": [
        "message = 'danger'\n",
        "i=0\n",
        "while i<len(message):\n",
        "  letter=message[i]\n",
        "  d=chr(ord(letter)+2)\n",
        "  print(d,end=\" \")\n",
        "  i=i+1"
      ],
      "metadata": {
        "colab": {
          "base_uri": "https://localhost:8080/"
        },
        "id": "ZwnKBokmzLxQ",
        "outputId": "1b742bf2-791e-426e-abd8-aef473cb7038"
      },
      "execution_count": null,
      "outputs": [
        {
          "output_type": "stream",
          "name": "stdout",
          "text": [
            "f c p i g t "
          ]
        }
      ]
    },
    {
      "cell_type": "markdown",
      "source": [
        "WRITE A PROGRAM THAT ACCEPTS A STRING FROM A USER AND REDISPLACE THE SAME STRING AFTER REMOVING VOWELS FROM IT"
      ],
      "metadata": {
        "id": "3xbeNn94zahF"
      }
    },
    {
      "cell_type": "code",
      "source": [
        "List=[1, 2, 3, 4, 5, 6, 7, 8, 9, 10]\n",
        "print(List)\n",
        "print(List[7])\n",
        "print(List[3:6])\n",
        "print(List[::2])\n",
        "print(List[1::2])\n",
        "print(List[1::3])\n",
        "List[5]=100\n",
        "print(List)\n",
        "List.append(200)\n",
        "print(List)"
      ],
      "metadata": {
        "colab": {
          "base_uri": "https://localhost:8080/"
        },
        "id": "49rKAO3nzbMU",
        "outputId": "0c90f861-7f72-42f5-cd8e-a961f68e2c6d"
      },
      "execution_count": null,
      "outputs": [
        {
          "output_type": "stream",
          "name": "stdout",
          "text": [
            "[1, 2, 3, 4, 5, 6, 7, 8, 9, 10]\n",
            "8\n",
            "[4, 5, 6]\n",
            "[1, 3, 5, 7, 9]\n",
            "[2, 4, 6, 8, 10]\n",
            "[2, 5, 8]\n",
            "[1, 2, 3, 4, 5, 100, 7, 8, 9, 10]\n",
            "[1, 2, 3, 4, 5, 100, 7, 8, 9, 10, 200]\n"
          ]
        }
      ]
    }
  ],
  "metadata": {
    "colab": {
      "provenance": [],
      "authorship_tag": "ABX9TyMkeeGjckVJUkngLfSOU3/B",
      "include_colab_link": true
    },
    "kernelspec": {
      "display_name": "Python 3",
      "name": "python3"
    },
    "language_info": {
      "name": "python"
    }
  },
  "nbformat": 4,
  "nbformat_minor": 0
}