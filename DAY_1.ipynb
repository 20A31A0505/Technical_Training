{
  "nbformat": 4,
  "nbformat_minor": 0,
  "metadata": {
    "colab": {
      "provenance": [],
      "authorship_tag": "ABX9TyOD6osLaXGT2/cCFmnmNP80",
      "include_colab_link": true
    },
    "kernelspec": {
      "name": "python3",
      "display_name": "Python 3"
    },
    "language_info": {
      "name": "python"
    }
  },
  "cells": [
    {
      "cell_type": "markdown",
      "metadata": {
        "id": "view-in-github",
        "colab_type": "text"
      },
      "source": [
        "<a href=\"https://colab.research.google.com/github/20A31A0505/Technical_Training/blob/main/DAY_1.ipynb\" target=\"_parent\"><img src=\"https://colab.research.google.com/assets/colab-badge.svg\" alt=\"Open In Colab\"/></a>"
      ]
    },
    {
      "cell_type": "code",
      "execution_count": null,
      "metadata": {
        "colab": {
          "base_uri": "https://localhost:8080/"
        },
        "id": "ReEy72-GfCCu",
        "outputId": "178db2e4-a8be-453f-fc65-12603ac3095f"
      },
      "outputs": [
        {
          "output_type": "stream",
          "name": "stdout",
          "text": [
            "\"\n",
            "//\n",
            "hello\fworld\n"
          ]
        }
      ],
      "source": [
        "print(\"\\\"\")\n",
        "print(\"//\")\n",
        "print(\"hello\\fworld\")"
      ]
    },
    {
      "cell_type": "code",
      "source": [
        "\n",
        "num = 7\n",
        "amt = 122.22\n",
        "code = 'a'\n",
        "long=25896\n",
        "msg='hi'"
      ],
      "metadata": {
        "id": "WapdVcwIfhXf"
      },
      "execution_count": null,
      "outputs": []
    },
    {
      "cell_type": "markdown",
      "source": [
        "format specifier\n",
        "  syntax === format('vijay', 30)\n",
        "  syntax === format('vijay', ^30)"
      ],
      "metadata": {
        "id": "EiGt5yRAf0DB"
      }
    },
    {
      "cell_type": "code",
      "source": [
        "#basic3\n",
        "num=input()\n",
        "n=int(input())\n",
        "type(n)"
      ],
      "metadata": {
        "colab": {
          "base_uri": "https://localhost:8080/"
        },
        "id": "uFc6YrJ1f1Kl",
        "outputId": "f95fbf02-d2cd-4e64-b26e-74fc8a982308"
      },
      "execution_count": null,
      "outputs": [
        {
          "name": "stdout",
          "output_type": "stream",
          "text": [
            "7\n",
            "5\n"
          ]
        },
        {
          "output_type": "execute_result",
          "data": {
            "text/plain": [
              "int"
            ]
          },
          "metadata": {},
          "execution_count": 4
        }
      ]
    },
    {
      "cell_type": "code",
      "source": [
        "#basic4\n",
        "a=int(input())\n",
        "a=int(input())\n",
        "print(\"a=\",a)\n",
        "#revaluation of memory locations\n",
        "#(prints the last entered value)\n"
      ],
      "metadata": {
        "colab": {
          "base_uri": "https://localhost:8080/"
        },
        "id": "nlFltMnlgGVe",
        "outputId": "eb0c0a6b-c98e-47b6-f5d7-eb6b9e256cdd"
      },
      "execution_count": null,
      "outputs": [
        {
          "output_type": "stream",
          "name": "stdout",
          "text": [
            "8\n",
            "9\n",
            "a= 9\n"
          ]
        }
      ]
    },
    {
      "cell_type": "code",
      "source": [
        "#basic5\n",
        "a=True\n",
        "print(a)\n",
        "print(20!=20)\n",
        "print(20==20)"
      ],
      "metadata": {
        "colab": {
          "base_uri": "https://localhost:8080/"
        },
        "id": "7a3F-jvFgd-v",
        "outputId": "1f051059-22bd-46ff-bb3f-a18f30484fb8"
      },
      "execution_count": null,
      "outputs": [
        {
          "output_type": "stream",
          "name": "stdout",
          "text": [
            "True\n",
            "False\n",
            "True\n"
          ]
        }
      ]
    },
    {
      "cell_type": "markdown",
      "source": [
        "RESEREVERD WORDS\n",
        "and not  break class exec finally\n",
        "for from or pass print continue def\n",
        "del import in if raise global try while\n",
        "return else is lambda with yeild"
      ],
      "metadata": {
        "id": "qWKMFH7Bgoe5"
      }
    },
    {
      "cell_type": "code",
      "source": [
        "#basic6\n",
        "#only strings can be concatenated\n",
        "print('divya' *5)\n",
        "print('divya'+'5')"
      ],
      "metadata": {
        "colab": {
          "base_uri": "https://localhost:8080/"
        },
        "id": "ADvOdDA7gkcm",
        "outputId": "66cb564e-798a-4d03-b938-b44c61c769e8"
      },
      "execution_count": null,
      "outputs": [
        {
          "output_type": "stream",
          "name": "stdout",
          "text": [
            "divyadivyadivyadivyadivya\n",
            "divya5\n"
          ]
        }
      ]
    },
    {
      "cell_type": "code",
      "source": [
        "#basic7\n",
        "a=10\n",
        "b=20\n",
        "c=a+b\n",
        "print(c)"
      ],
      "metadata": {
        "colab": {
          "base_uri": "https://localhost:8080/"
        },
        "id": "zPXlYswJgxzb",
        "outputId": "8e4cb501-3562-4907-97b9-074b7f22d764"
      },
      "execution_count": null,
      "outputs": [
        {
          "output_type": "stream",
          "name": "stdout",
          "text": [
            "30\n"
          ]
        }
      ]
    },
    {
      "cell_type": "code",
      "source": [
        "#WRITE A PROGRAM TO SWAP TWO VARIABLES BY USING ADDITION AND SUBTRACTION\n",
        "a=1\n",
        "b=2\n",
        "a=a+b\n",
        "b=a-b\n",
        "a=a-b\n",
        "print('a after swap',a)\n",
        "print('b after swap',b)"
      ],
      "metadata": {
        "colab": {
          "base_uri": "https://localhost:8080/"
        },
        "id": "FYHgcC6Tg218",
        "outputId": "7577e0c4-0ae8-4016-f7cc-73b46217b972"
      },
      "execution_count": null,
      "outputs": [
        {
          "output_type": "stream",
          "name": "stdout",
          "text": [
            "a after swap 2\n",
            "b after swap 1\n"
          ]
        }
      ]
    },
    {
      "cell_type": "code",
      "source": [
        "#mul and div\n",
        "a=1\n",
        "b=2\n",
        "a=a*b\n",
        "b=a/b\n",
        "print(a,b)"
      ],
      "metadata": {
        "colab": {
          "base_uri": "https://localhost:8080/"
        },
        "id": "S9eZQ163hEJ6",
        "outputId": "5a2ccf44-4c0c-4bfc-c47d-79b1b1d8b576"
      },
      "execution_count": null,
      "outputs": [
        {
          "output_type": "stream",
          "name": "stdout",
          "text": [
            "2 1.0\n"
          ]
        }
      ]
    },
    {
      "cell_type": "code",
      "source": [
        "#USING CIRCUMFREX\n",
        "a=1\n",
        "b=2\n",
        "a=a^b\n",
        "b=a^b\n",
        "print(a,b)"
      ],
      "metadata": {
        "colab": {
          "base_uri": "https://localhost:8080/"
        },
        "id": "Sw965laxhOwB",
        "outputId": "323ba878-cea4-4ac1-839d-0130e54a9291"
      },
      "execution_count": null,
      "outputs": [
        {
          "output_type": "stream",
          "name": "stdout",
          "text": [
            "3 1\n"
          ]
        }
      ]
    },
    {
      "cell_type": "code",
      "source": [
        "#WRITE A PROGRAM TO CALCULATE FOR AREA OF A TRIANGLE USING HEROMS FORMULA\n",
        "\n",
        "#S=(A+B+C)/2\n",
        "#FOR=SQRT(S*(S-A)*(S-B)*(S-C))\n",
        "a,b,c=24,18,19\n",
        "s=(a+b+c)/2\n",
        "area=(s*(s-a)*(s-b)*(s-c))**0.5\n",
        "print(area)\n"
      ],
      "metadata": {
        "colab": {
          "base_uri": "https://localhost:8080/"
        },
        "id": "2C52Vqa7hUP-",
        "outputId": "0be06977-0dc3-4dc2-a187-27dbd32f3639"
      },
      "execution_count": null,
      "outputs": [
        {
          "output_type": "stream",
          "name": "stdout",
          "text": [
            "168.81480237230383\n"
          ]
        }
      ]
    },
    {
      "cell_type": "code",
      "source": [
        "#WRITE A PROGRAM TO CALCULATE THE CIRCUMFERENCE OF A CIRCLE\n",
        "\n",
        "#2*3.14159*R  =CIRCUMFERENCE\n",
        "r=int(input())\n",
        "cir=2*3.14159*r\n",
        "print(cir)"
      ],
      "metadata": {
        "colab": {
          "base_uri": "https://localhost:8080/"
        },
        "id": "vmiJOdUehaNt",
        "outputId": "8300af5f-552d-43be-b465-a6cd845590e1"
      },
      "execution_count": null,
      "outputs": [
        {
          "output_type": "stream",
          "name": "stdout",
          "text": [
            "3\n",
            "18.849539999999998\n"
          ]
        }
      ]
    },
    {
      "cell_type": "code",
      "source": [
        "#WRITE A PROGRAM TO CALCULATE THE LARGEST NUMBER OF THE TWO\n",
        "\n",
        "a=int(input(\"enter the value of a :\"))\n",
        "b=int(input(\"enter the value of b :\"))\n",
        "if(a>b):\n",
        "    print(\"a is greater\")\n",
        "else:\n",
        "    print(\"b is greater\")"
      ],
      "metadata": {
        "colab": {
          "base_uri": "https://localhost:8080/"
        },
        "id": "MyEQeoCuhr5F",
        "outputId": "9d96715b-1b5c-4243-dd32-dbeb9cc25ce8"
      },
      "execution_count": null,
      "outputs": [
        {
          "output_type": "stream",
          "name": "stdout",
          "text": [
            "enter the value of a :4\n",
            "enter the value of b :6\n",
            "b is greater\n"
          ]
        }
      ]
    },
    {
      "cell_type": "code",
      "source": [
        "#ELIF\n",
        "\n",
        "#WRITE A PROGRAM TO CHECK WHETHER THE GIVEN NUMBER IS NEGATIVE OR POSITIVE OR ZERO\n",
        "\n",
        "a=int(input())\n",
        "if(a>0):\n",
        "    print(a,\" is positive\")\n",
        "elif(a<0):\n",
        "    print(a,\" is negative\")\n",
        "else:\n",
        "    print(\"a is zero\")"
      ],
      "metadata": {
        "colab": {
          "base_uri": "https://localhost:8080/"
        },
        "id": "ByyVqoZ3hyPw",
        "outputId": "b83b7458-c7f4-45a8-fbc4-14a277324a99"
      },
      "execution_count": null,
      "outputs": [
        {
          "output_type": "stream",
          "name": "stdout",
          "text": [
            "0\n",
            "a is zero\n"
          ]
        }
      ]
    },
    {
      "cell_type": "markdown",
      "source": [
        "WRITE A PROGRAM USING NESTEDIF TO CHECK THE NUMBER'S RANGE IN THE TENTH POSITION\n",
        "CONSTRAINT-1: IF NUMBER=21 THEN THE RANGE IS 20-30\n",
        "CONSTRAINT-2: IF NUMBER=9 THEN THE RANGE IS 10-20\n"
      ],
      "metadata": {
        "id": "5NHBKkWviKFh"
      }
    },
    {
      "cell_type": "code",
      "source": [
        "#PROMPT METHOD(BASIC METHOD)\n",
        "num=int(input(\"enter a number below 30 :\"))\n",
        "if num>0 and num<10 :\n",
        "    print(\"range is 0-10\")\n",
        "if num>=10 and num<20 :\n",
        "    print(\"range is 11-20\")\n",
        "if num>=21 and num<30 :\n",
        "    print(\"range is 21-30\")\n"
      ],
      "metadata": {
        "colab": {
          "base_uri": "https://localhost:8080/"
        },
        "id": "ex1p1evPiLNT",
        "outputId": "e61eaa0e-328c-4e7b-e8d9-f6f6d0c5d9bf"
      },
      "execution_count": null,
      "outputs": [
        {
          "output_type": "stream",
          "name": "stdout",
          "text": [
            "enter a number below 30 :21\n",
            "range is 21-30\n"
          ]
        }
      ]
    },
    {
      "cell_type": "code",
      "source": [
        "#WRITE A PROGRAM TO CHECK MAX NUMBER AMONG THREE NUMBERS\n",
        " \n",
        "a,b,c=input(\"enter the three numbers :\").split()\n",
        "print(a,b,c)\n",
        "if a>b :\n",
        "    if a>c :\n",
        "        print(\"a is max\")\n",
        "    else :\n",
        "        print(\"c is max\")\n",
        "elif b>c :\n",
        "    print(\"b is max\")\n",
        "else :\n",
        "    print(\"all are same\")\n"
      ],
      "metadata": {
        "colab": {
          "base_uri": "https://localhost:8080/"
        },
        "id": "VY2wNAVkiUR-",
        "outputId": "0c77d03b-ad50-4101-8346-103cff8737ed"
      },
      "execution_count": null,
      "outputs": [
        {
          "output_type": "stream",
          "name": "stdout",
          "text": [
            "enter the three numbers :5 8 6\n",
            "5 8 6\n",
            "b is max\n"
          ]
        }
      ]
    },
    {
      "cell_type": "code",
      "source": [
        "#PRGM1\n",
        "\n",
        "n=int(input())\n",
        "for i in range(n):\n",
        "    k,m=map(int,input().split())\n",
        "    d=n-m\n",
        "    i=n-k\n",
        "    if m==0 or m>i :\n",
        "        print(\"invalid input\")\n",
        "    else :\n",
        "        print(\"no.of candies sold\",m)\n",
        "        print(\"no.of candies left\",d)"
      ],
      "metadata": {
        "colab": {
          "base_uri": "https://localhost:8080/"
        },
        "id": "V14dyKLTific",
        "outputId": "a022256b-c502-44b6-f55a-6fb7213c77bf"
      },
      "execution_count": null,
      "outputs": [
        {
          "output_type": "stream",
          "name": "stdout",
          "text": [
            "3\n",
            "2 1\n",
            "no.of candies sold 1\n",
            "no.of candies left 2\n",
            "3 1\n",
            "invalid input\n",
            "1 2\n",
            "no.of candies sold 2\n",
            "no.of candies left 1\n"
          ]
        }
      ]
    }
  ]
}